{
 "cells": [
  {
   "cell_type": "markdown",
   "id": "65444c1c",
   "metadata": {},
   "source": [
    "### ✅ Ejercicio 1 \n",
    "### – Crear clase y constructor\n",
    "### Crea una clase llamada Libro con los atributos: titulo, autor y anio.\n",
    "### Define un constructor para inicializar estos atributos.\n",
    "### Crea una instancia de Libro y muestra sus datos."
   ]
  },
  {
   "cell_type": "code",
   "execution_count": 3,
   "id": "abc4c98e",
   "metadata": {},
   "outputs": [
    {
     "name": "stdout",
     "output_type": "stream",
     "text": [
      "Título: Cien años de soledad\n",
      "Autor: Gabriel García Márquez\n",
      "Año: 1967\n"
     ]
    }
   ],
   "source": [
    "#Crear clase y constructor\n",
    "#Crea una clase llamada Libro con los atributos: titulo, autor y anio.\n",
    "#Define un constructor para inicializar estos atributos.\n",
    "#Crea una instancia de Libro y muestra sus datos.\n",
    "class Libro:\n",
    "    def __init__(self, titulo, autor, anio):\n",
    "        self.titulo = titulo\n",
    "        self.autor = autor\n",
    "        self.anio = anio\n",
    "\n",
    "    def mostrar_datos(self):\n",
    "        print(f\"Título: {self.titulo}\")\n",
    "        print(f\"Autor: {self.autor}\")\n",
    "        print(f\"Año: {self.anio}\")\n",
    "\n",
    "# Crear una instancia de Libro\n",
    "mi_libro = Libro(\"Cien años de soledad\", \"Gabriel García Márquez\", 1967)\n",
    "\n",
    "# Mostrar los datos del libro\n",
    "mi_libro.mostrar_datos()"
   ]
  },
  {
   "cell_type": "code",
   "execution_count": 6,
   "id": "a19c89e4",
   "metadata": {},
   "outputs": [
    {
     "name": "stdout",
     "output_type": "stream",
     "text": [
      "'Mi Vida en 60 Minutos' de Wilmer Mendoza (2025)\n",
      "Autor : Wilmer Mendoza\n",
      "Titulo : Mi Vida en 60 Minutos\n",
      "Año : 2025\n"
     ]
    }
   ],
   "source": [
    "class Libro:\n",
    "    def __init__(self, autor, titulo, anio):\n",
    "        self.autor=autor\n",
    "        self.titulo=titulo\n",
    "        self.anio=anio\n",
    "        \n",
    "    def mostrar(self):\n",
    "        print(f\"Autor : {self.autor}\")\n",
    "        print(f\"Titulo : {self.titulo}\")\n",
    "        print(f\"Año : {self.anio}\")\n",
    "    \n",
    "    def __str__(self):\n",
    "        return f\"'{self.titulo}' de {self.autor} ({self.anio})\"\n",
    "    \n",
    "mi_libro=Libro(\"Wilmer Mendoza\", \"Mi Vida en 60 Minutos\", 2025)\n",
    "print(mi_libro)\n",
    "mi_libro.mostrar()\n",
    "        "
   ]
  },
  {
   "cell_type": "markdown",
   "id": "d9ba0cc2",
   "metadata": {},
   "source": []
  },
  {
   "cell_type": "code",
   "execution_count": null,
   "id": "f640b13e",
   "metadata": {},
   "outputs": [],
   "source": []
  },
  {
   "cell_type": "markdown",
   "id": "00c0733b",
   "metadata": {},
   "source": []
  },
  {
   "cell_type": "markdown",
   "id": "c683edf0",
   "metadata": {},
   "source": []
  }
 ],
 "metadata": {
  "kernelspec": {
   "display_name": "Python 3",
   "language": "python",
   "name": "python3"
  },
  "language_info": {
   "codemirror_mode": {
    "name": "ipython",
    "version": 3
   },
   "file_extension": ".py",
   "mimetype": "text/x-python",
   "name": "python",
   "nbconvert_exporter": "python",
   "pygments_lexer": "ipython3",
   "version": "3.13.0"
  }
 },
 "nbformat": 4,
 "nbformat_minor": 5
}
